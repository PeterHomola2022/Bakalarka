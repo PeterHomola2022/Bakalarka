{
 "cells": [
  {
   "cell_type": "code",
   "execution_count": 1,
   "id": "a3302092",
   "metadata": {},
   "outputs": [
    {
     "name": "stderr",
     "output_type": "stream",
     "text": [
      "C:\\Users\\homol\\anaconda3\\envs\\newENV\\lib\\site-packages\\tqdm\\auto.py:22: TqdmWarning: IProgress not found. Please update jupyter and ipywidgets. See https://ipywidgets.readthedocs.io/en/stable/user_install.html\n",
      "  from .autonotebook import tqdm as notebook_tqdm\n"
     ]
    }
   ],
   "source": [
    "#https://www.pluralsight.com/guides/image-classification-with-pytorch\n",
    "#https://pytorch.org/tutorials/beginner/blitz/cifar10_tutorial.html\n",
    "#https://medium.com/bitgrit-data-science-publication/building-an-image-classification-model-with-pytorch-from-scratch-f10452073212\n",
    "#https://discuss.pytorch.org/t/valueerror-expected-input-batch-size-324-to-match-target-batch-size-4/24498/4\n",
    "#https://www.tensorflow.org/hub/tutorials/image_feature_vector?fbclid=IwAR0khthMzzqpuvpau9lQO7D3hvdMjNtr3MyLdtN6t5_pNfp_dXT_6EtixWQ\n",
    "#https://pyimagesearch.com/2021/10/11/pytorch-transfer-learning-and-image-classification/\n",
    "\n",
    "\n",
    "\n",
    "import pandas as pd \n",
    "import matplotlib.pyplot as plt \n",
    "import torch\n",
    "import torch.nn.functional as F\n",
    "import torchvision\n",
    "import torchvision.transforms as transforms\n",
    "import numpy as np\n",
    "from statistics import mean\n",
    "import os\n",
    "from torch.utils.data import Dataset, DataLoader\n",
    "#from sklearn.model_selection import train_test_split\n",
    "from torchvision import datasets\n",
    "from tqdm import tqdm\n",
    "\n",
    "%matplotlib inline\n",
    "means = [0.485,0.456,0.406]\n",
    "std = [0.229,0.224,0.225]\n"
   ]
  },
  {
   "cell_type": "code",
   "execution_count": 2,
   "id": "f4ed808c",
   "metadata": {},
   "outputs": [],
   "source": [
    "train_transform = transforms.Compose([transforms.Resize((200,200)),\n",
    "                                      transforms.ToTensor(),\n",
    "                                      transforms.Normalize(means,std)])\n",
    "\n",
    "test_transform = transforms.Compose([transforms.Resize((200,200)),\n",
    "                                     transforms.ToTensor(),\n",
    "                                     transforms.Normalize(means,std)])\n",
    "\n",
    "valid_transform = transforms.Compose([transforms.Resize((200,200)),\n",
    "                                     transforms.ToTensor(),\n",
    "                                     transforms.Normalize(means,std)])"
   ]
  },
  {
   "cell_type": "code",
   "execution_count": 3,
   "id": "6b34a3b3",
   "metadata": {
    "scrolled": true
   },
   "outputs": [
    {
     "name": "stdout",
     "output_type": "stream",
     "text": [
      "['bus', 'car', 'car_with_trailer', 'large_car', 'motorcycle', 'small_truck', 'truck', 'truck_with_trailer', 'unknown', 'van', 'van_with_trailer']\n",
      "38028\n"
     ]
    }
   ],
   "source": [
    "data_dir = './class_dataset/dataset/'\n",
    "train_datasets = datasets.ImageFolder(os.path.join(data_dir,'train'),train_transform)\n",
    "valid_datasets = datasets.ImageFolder(os.path.join(data_dir,'val'),valid_transform)\n",
    "\n",
    "print(train_datasets.classes)\n",
    "print(len(train_datasets))"
   ]
  },
  {
   "cell_type": "code",
   "execution_count": 4,
   "id": "054fee57",
   "metadata": {},
   "outputs": [],
   "source": [
    "train_loader=DataLoader(dataset = train_datasets,batch_size=16,shuffle = True, num_workers=4)\n",
    "valid_loader=DataLoader(dataset = valid_datasets,batch_size=16,shuffle = False, num_workers=4)\n",
    "\n"
   ]
  },
  {
   "cell_type": "code",
   "execution_count": 5,
   "id": "e53fea41",
   "metadata": {},
   "outputs": [],
   "source": [
    "#train_data = CactiDataset(train, train_path, train_transform )\n",
    "#valid_data = CactiDataset(valid_data, train_path, valid_transform )\n",
    "#test_data = CactiDataset(submission, test_path, test_transform )"
   ]
  },
  {
   "cell_type": "code",
   "execution_count": 6,
   "id": "94062260",
   "metadata": {},
   "outputs": [],
   "source": [
    "num_epochs = 10\n",
    "num_classes = 11\n",
    "batch_size = 16\n",
    "learning_rate = 0.001"
   ]
  },
  {
   "cell_type": "code",
   "execution_count": 7,
   "id": "05f852c9",
   "metadata": {},
   "outputs": [],
   "source": [
    "import tensorflow as tf\n",
    "device = torch.device('cuda:0' if torch.cuda.is_available() else 'cpu')\n",
    "\n",
    "# create a data generator\n",
    "#datagen = tf.keras.preprocessing.image.ImageDataGenerator()\n",
    "\n",
    "\n",
    "train_path = r'/class_dataset/dataset/train/'\n",
    "valid_path =r'/class_dataset/dataset/val/'\n",
    "test_path = r'/class_dataset/dataset/test/'\n"
   ]
  },
  {
   "cell_type": "code",
   "execution_count": 8,
   "id": "12eac4e6",
   "metadata": {},
   "outputs": [],
   "source": [
    "#train_it = datagen.flow_from_directory('class_dataset/dataset/train/', class_mode='binary', batch_size=64)\n",
    "#train_loader = train_it\n",
    "# load and iterate validation dataset\n",
    "#val_it = datagen.flow_from_directory('class_dataset/dataset/val/', class_mode='binary', batch_size=64)\n",
    "#valid_loader = val_it\n",
    "# load and iterate test dataset\n",
    "#test_it = datagen.flow_from_directory('class_dataset/dataset/test/', class_mode='binary', batch_size=64)"
   ]
  },
  {
   "cell_type": "code",
   "execution_count": 9,
   "id": "b0053ca1",
   "metadata": {},
   "outputs": [
    {
     "name": "stdout",
     "output_type": "stream",
     "text": [
      "cuda:0\n",
      "NVIDIA GeForce GTX 1050\n"
     ]
    }
   ],
   "source": [
    "print(str(device))\n",
    "print(torch.cuda.get_device_name(0))"
   ]
  },
  {
   "cell_type": "code",
   "execution_count": 10,
   "id": "f9ae2dc1",
   "metadata": {},
   "outputs": [],
   "source": [
    "# import torch\n",
    "# import torch.nn as nn\n",
    "# import torch.nn.functional as F\n",
    "\n",
    "# class CNN(nn.Module): \n",
    "#     def __init__(self):\n",
    "#         super(CNN, self).__init__()\n",
    "#         self.conv1 = nn.Conv2d(in_channels=3, out_channels=10, kernel_size=3)\n",
    "#         self.conv2 = nn.Conv2d(10, 20, kernel_size=3)\n",
    "#         self.conv2_drop = nn.Dropout2d()\n",
    "#         self.fc1 = nn.Linear(720, 1024)\n",
    "#         self.fc2 = nn.Linear(1024, 11)\n",
    "\n",
    "#     def forward(self, x):\n",
    "#         x = F.relu(F.max_pool2d(self.conv1(x), 2))\n",
    "#         x = F.relu(F.max_pool2d(self.conv2_drop(self.conv2(x)), 2))\n",
    "#         x = x.view(x.shape[0],-1)\n",
    "#         x = F.relu(self.fc1(x))\n",
    "#         x = F.dropout(x, training=self.training)\n",
    "#         x = self.fc2(x)\n",
    "#         return x"
   ]
  },
  {
   "cell_type": "code",
   "execution_count": 11,
   "id": "3f426432",
   "metadata": {},
   "outputs": [],
   "source": [
    "import torch\n",
    "import torch.nn as nn\n",
    "import torch.nn.functional as F\n",
    "\n",
    "class CNN(nn.Module):\n",
    "    def __init__(self) -> None:\n",
    "        super(CNN, self).__init__()\n",
    "        self.conv1 = nn.Conv2d(3, 6, 5)\n",
    "        self.pool = nn.MaxPool2d(2, 2)\n",
    "        self.conv2 = nn.Conv2d(6, 16, 5)\n",
    "        self.fc1 = nn.Linear(16 * 47 * 47, 1024)   #1024,740\n",
    "        self.fc2 = nn.Linear(1024, 740)      #120/84\n",
    "        self.fc3 = nn.Linear(740, 11)\n",
    "\n",
    "    def forward(self, x: torch.Tensor) -> torch.Tensor:\n",
    "        x = self.pool(F.relu(self.conv1(x)))\n",
    "        x = self.pool(F.relu(self.conv2(x)))\n",
    "        #print(x.shape)\n",
    "        x = x.view(-1,16 * 47 * 47)\n",
    "        x = F.relu(self.fc1(x))\n",
    "        x = F.relu(self.fc2(x))\n",
    "        return self.fc3(x)"
   ]
  },
  {
   "cell_type": "code",
   "execution_count": 12,
   "id": "0a6632b1",
   "metadata": {},
   "outputs": [
    {
     "name": "stdout",
     "output_type": "stream",
     "text": [
      "CNN(\n",
      "  (conv1): Conv2d(3, 6, kernel_size=(5, 5), stride=(1, 1))\n",
      "  (pool): MaxPool2d(kernel_size=2, stride=2, padding=0, dilation=1, ceil_mode=False)\n",
      "  (conv2): Conv2d(6, 16, kernel_size=(5, 5), stride=(1, 1))\n",
      "  (fc1): Linear(in_features=35344, out_features=1024, bias=True)\n",
      "  (fc2): Linear(in_features=1024, out_features=740, bias=True)\n",
      "  (fc3): Linear(in_features=740, out_features=11, bias=True)\n",
      ")\n"
     ]
    }
   ],
   "source": [
    "model = CNN()\n",
    "print(model)"
   ]
  },
  {
   "cell_type": "code",
   "execution_count": 13,
   "id": "bd8f5795",
   "metadata": {},
   "outputs": [],
   "source": [
    "model = CNN().to(device)\n",
    "criterion = nn.CrossEntropyLoss()\n",
    "#optimizer = torch.optim.Adam(model.parameters(),lr = learning_rate)\n",
    "optimizer = torch.optim.Adam(model.parameters())\n",
    "\n",
    "#SGD , momentum=0.9\n",
    "#Adam"
   ]
  },
  {
   "cell_type": "code",
   "execution_count": 14,
   "id": "fc62cfd5",
   "metadata": {},
   "outputs": [
    {
     "name": "stdout",
     "output_type": "stream",
     "text": [
      "Training-the-model\n"
     ]
    },
    {
     "name": "stderr",
     "output_type": "stream",
     "text": [
      "100%|██████████| 2377/2377 [02:59<00:00, 13.27it/s]\n"
     ]
    },
    {
     "name": "stdout",
     "output_type": "stream",
     "text": [
      "Validate-the-model\n"
     ]
    },
    {
     "name": "stderr",
     "output_type": "stream",
     "text": [
      "100%|██████████| 338/338 [00:16<00:00, 20.56it/s]\n"
     ]
    },
    {
     "name": "stdout",
     "output_type": "stream",
     "text": [
      "1\n",
      "Epoch: 1 \tTraining Loss: 0.930710 \tValidation Loss: 0.780340\n",
      "1\n",
      "Training-the-model\n"
     ]
    },
    {
     "name": "stderr",
     "output_type": "stream",
     "text": [
      "100%|██████████| 2377/2377 [02:54<00:00, 13.64it/s]\n"
     ]
    },
    {
     "name": "stdout",
     "output_type": "stream",
     "text": [
      "Validate-the-model\n"
     ]
    },
    {
     "name": "stderr",
     "output_type": "stream",
     "text": [
      "100%|██████████| 338/338 [00:17<00:00, 19.03it/s]\n"
     ]
    },
    {
     "name": "stdout",
     "output_type": "stream",
     "text": [
      "2\n",
      "Epoch: 2 \tTraining Loss: 0.396507 \tValidation Loss: 0.720217\n",
      "2\n",
      "Training-the-model\n"
     ]
    },
    {
     "name": "stderr",
     "output_type": "stream",
     "text": [
      "100%|██████████| 2377/2377 [02:54<00:00, 13.60it/s]\n"
     ]
    },
    {
     "name": "stdout",
     "output_type": "stream",
     "text": [
      "Validate-the-model\n"
     ]
    },
    {
     "name": "stderr",
     "output_type": "stream",
     "text": [
      "100%|██████████| 338/338 [00:15<00:00, 21.79it/s]"
     ]
    },
    {
     "name": "stdout",
     "output_type": "stream",
     "text": [
      "3\n",
      "Epoch: 3 \tTraining Loss: 0.212481 \tValidation Loss: 0.847209\n",
      "3\n",
      "CPU times: total: 3min 43s\n",
      "Wall time: 9min 37s\n"
     ]
    },
    {
     "name": "stderr",
     "output_type": "stream",
     "text": [
      "\n"
     ]
    }
   ],
   "source": [
    "%%time\n",
    "# keeping-track-of-losses \n",
    "train_losses = []\n",
    "valid_losses = []\n",
    "\n",
    "for epoch in range(1, num_epochs + 1):\n",
    "    # keep-track-of-training-and-validation-loss\n",
    "    train_loss = 0.0\n",
    "    valid_loss = 0.0\n",
    "    \n",
    "    # training-the-model\n",
    "    print(\"Training-the-model\")\n",
    "    model.train()\n",
    "    for data, target in tqdm(train_loader):\n",
    "        # move-tensors-to-GPU \n",
    "        data = data.to(device)\n",
    "        target = target.to(device)\n",
    "        \n",
    "        # clear-the-gradients-of-all-optimized-variables\n",
    "        optimizer.zero_grad()\n",
    "        # forward-pass: compute-predicted-outputs-by-passing-inputs-to-the-model\n",
    "        output = model(data)\n",
    "        # calculate-the-batch-loss\n",
    "        loss = criterion(output, target)\n",
    "        # backward-pass: compute-gradient-of-the-loss-wrt-model-parameters\n",
    "        loss.backward()\n",
    "        # perform-a-ingle-optimization-step (parameter-update)\n",
    "        optimizer.step()\n",
    "        # update-training-loss\n",
    "        train_loss += loss.item() * data.size(0)\n",
    "        \n",
    "    # validate-the-model\n",
    "    print(\"Validate-the-model\")\n",
    "    model.eval()\n",
    "    for data, target in tqdm(valid_loader):\n",
    "        \n",
    "        data = data.to(device)\n",
    "        target = target.to(device)\n",
    "        \n",
    "        output = model(data)\n",
    "        \n",
    "        loss = criterion(output, target)\n",
    "        \n",
    "        # update-average-validation-loss \n",
    "        valid_loss += loss.item() * data.size(0)\n",
    "    \n",
    "    # calculate-average-losses\n",
    "    train_loss = train_loss/len(train_loader.sampler)\n",
    "    valid_loss = valid_loss/len(valid_loader.sampler)\n",
    "    train_losses.append(train_loss)\n",
    "    valid_losses.append(valid_loss)\n",
    "    print(len(valid_losses))\n",
    "\n",
    "        \n",
    "    # print-training/validation-statistics \n",
    "    print('Epoch: {} \\tTraining Loss: {:.6f} \\tValidation Loss: {:.6f}'.format(\n",
    "        epoch, train_loss, valid_loss))\n",
    "    \n",
    "    #if valid lossesgo wrong\n",
    "    print(len(valid_losses))\n",
    "    help_number = len(valid_losses)\n",
    "    if help_number > 1:\n",
    "        if valid_losses[help_number-1] > valid_losses[help_number-2]:\n",
    "            break\n",
    "    \n",
    "# path = \"./model.pth\"\n",
    "# torch.save(net.state_dict(), path)\n",
    "# print('Finished Training')"
   ]
  },
  {
   "cell_type": "code",
   "execution_count": 15,
   "id": "a84574e9",
   "metadata": {},
   "outputs": [
    {
     "name": "stdout",
     "output_type": "stream",
     "text": [
      "Test Accuracy of the model: 80.24074074074075 %\n"
     ]
    }
   ],
   "source": [
    "# test-the-model\n",
    "model.eval()  # it-disables-dropout\n",
    "with torch.no_grad():\n",
    "    correct = 0\n",
    "    total = 0\n",
    "    for images, labels in valid_loader:\n",
    "        images = images.to(device)\n",
    "        labels = labels.to(device)\n",
    "        outputs = model(images)\n",
    "        _, predicted = torch.max(outputs.data, 1)\n",
    "        total += labels.size(0)\n",
    "        correct += (predicted == labels).sum().item()\n",
    "          \n",
    "    print('Test Accuracy of the model: {} %'.format(100 * correct / total))\n",
    "    \n",
    "# Save \n",
    "#torch.save(model.state_dict(), 'model.ckpt')"
   ]
  },
  {
   "cell_type": "code",
   "execution_count": null,
   "id": "2464eaf9",
   "metadata": {},
   "outputs": [],
   "source": [
    "classes = ('bus', 'car', 'car_with_trailer', 'large_car', 'motorcycle', 'small_truck', 'truck', 'truck_with_trailer', 'unknown', 'van', 'van_with_trailer')\n",
    "# prepare to count predictions for each class\n",
    "correct_pred = {classname: 0 for classname in classes}\n",
    "total_pred = {classname: 0 for classname in classes}\n",
    "\n",
    "model.eval()  # it-disables-dropout\n",
    "# again no gradients needed\n",
    "with torch.no_grad():\n",
    "    for images, labels in valid_loader:\n",
    "        images = images.to(device)\n",
    "        labels = labels.to(device)\n",
    "        outputs = model(images)\n",
    "        _, predictions = torch.max(outputs, 1)\n",
    "        # collect the correct predictions for each class\n",
    "        for label, prediction in zip(labels, predictions):\n",
    "            if label == prediction:\n",
    "                correct_pred[classes[label]] += 1\n",
    "            total_pred[classes[label]] += 1\n",
    "\n",
    "\n",
    "# print accuracy for each class\n",
    "for classname, correct_count in correct_pred.items():\n",
    "    accuracy = 100 * float(correct_count) / total_pred[classname]\n",
    "    print(f'Accuracy for class: {classname:5s} is {accuracy:.1f} %')"
   ]
  },
  {
   "cell_type": "code",
   "execution_count": 16,
   "id": "27951b7f",
   "metadata": {},
   "outputs": [
    {
     "data": {
      "text/plain": [
       "<matplotlib.legend.Legend at 0x1930024d520>"
      ]
     },
     "execution_count": 16,
     "metadata": {},
     "output_type": "execute_result"
    },
    {
     "data": {
      "image/png": "[encoded data removed]",
      "text/plain": [
       "<Figure size 640x480 with 1 Axes>"
      ]
     },
     "metadata": {
      "image/png": {
       "height": 432,
       "width": 567
      }
     },
     "output_type": "display_data"
    }
   ],
   "source": [
    "%matplotlib inline\n",
    "%config InlineBackend.figure_format = 'retina'\n",
    "\n",
    "plt.plot(train_losses, label='Training loss')\n",
    "plt.plot(valid_losses, label='Validation loss')\n",
    "plt.xlabel(\"Epochs\")\n",
    "plt.ylabel(\"Loss\")\n",
    "plt.legend(frameon=False)"
   ]
  },
  {
   "cell_type": "code",
   "execution_count": null,
   "id": "dfec694c",
   "metadata": {},
   "outputs": [],
   "source": []
  },
  {
   "cell_type": "code",
   "execution_count": null,
   "id": "ea8e44d6",
   "metadata": {},
   "outputs": [],
   "source": []
  }
 ],
 "metadata": {
  "kernelspec": {
   "display_name": "Python 3 (ipykernel)",
   "language": "python",
   "name": "python3"
  },
  "language_info": {
   "codemirror_mode": {
    "name": "ipython",
    "version": 3
   },
   "file_extension": ".py",
   "mimetype": "text/x-python",
   "name": "python",
   "nbconvert_exporter": "python",
   "pygments_lexer": "ipython3",
   "version": "3.9.15"
  }
 },
 "nbformat": 4,
 "nbformat_minor": 5
}
